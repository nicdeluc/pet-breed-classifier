{
 "cells": [
  {
   "cell_type": "code",
   "execution_count": null,
   "id": "73dd0051",
   "metadata": {},
   "outputs": [],
   "source": [
    "import torch\n",
    "from torchvision.datasets import OxfordIIITPet\n",
    "from torchvision import transforms\n",
    "import matplotlib.pyplot as plt"
   ]
  },
  {
   "cell_type": "code",
   "execution_count": null,
   "id": "4b74bcba",
   "metadata": {},
   "outputs": [],
   "source": [
    "train_data = OxfordIIITPet(\n",
    "    root=\"data\",\n",
    "    split=\"trainval\",\n",
    "    transform=transforms.ToTensor(),\n",
    "    download=True\n",
    ")\n",
    "test_data = OxfordIIITPet(\n",
    "    root=\"data\",\n",
    "    split=\"test\",\n",
    "    transform=transforms.ToTensor(),\n",
    "    download=True\n",
    ")\n",
    "print(f\"Train samples: {len(train_data)}\")\n",
    "print(f\"Test samples: {len(test_data)}\")"
   ]
  },
  {
   "cell_type": "code",
   "execution_count": null,
   "id": "541c40b2",
   "metadata": {},
   "outputs": [],
   "source": [
    "figure = plt.figure(figsize=(2*size, 2*size))\n",
    "for i in range(1, size**2 + 1):\n",
    "    sample_idx = torch.randint(len(data))\n",
    "    image, label = data[sample_idx]\n",
    "    figure.subplot(size, size, i)\n",
    "    plt.title(label[sample_idx])\n",
    "    plt.axis(\"off\")\n",
    "    plt.imshow(image)\n",
    "plt.show()"
   ]
  }
 ],
 "metadata": {
  "kernelspec": {
   "display_name": "cv_clf_xai",
   "language": "python",
   "name": "python3"
  },
  "language_info": {
   "name": "python",
   "version": "3.11.13"
  }
 },
 "nbformat": 4,
 "nbformat_minor": 5
}
